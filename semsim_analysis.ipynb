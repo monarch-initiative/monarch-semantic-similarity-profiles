{
 "cells": [
  {
   "cell_type": "code",
   "execution_count": 2,
   "id": "88984ad2-7541-499a-8b3d-905cce825124",
   "metadata": {
    "tags": []
   },
   "outputs": [],
   "source": [
    "import matplotlib.pyplot as plt\n",
    "import seaborn as sns\n",
    "import pandas as pd\n",
    "import numpy as np"
   ]
  },
  {
   "cell_type": "code",
   "execution_count": 3,
   "id": "2bbea2f7-2383-443b-b335-98b5b50fe2b2",
   "metadata": {
    "tags": []
   },
   "outputs": [],
   "source": [
    "chunk = pd.read_csv(\"similarity_map_hp_mp.tsv\", sep=\"\\t\", chunksize=1000)\n",
    "df = pd.concat(chunk)\n"
   ]
  },
  {
   "cell_type": "code",
   "execution_count": 10,
   "id": "adff0c7f-babf-412c-b202-dd5a33c168c2",
   "metadata": {
    "tags": []
   },
   "outputs": [
    {
     "data": {
      "text/plain": [
       "(284360769, 17)"
      ]
     },
     "execution_count": 10,
     "metadata": {},
     "output_type": "execute_result"
    }
   ],
   "source": [
    "df.shape"
   ]
  },
  {
   "cell_type": "code",
   "execution_count": 11,
   "id": "26b8ca22-6b36-4833-aa89-90995b794158",
   "metadata": {
    "tags": []
   },
   "outputs": [
    {
     "data": {
      "text/html": [
       "<div>\n",
       "<style scoped>\n",
       "    .dataframe tbody tr th:only-of-type {\n",
       "        vertical-align: middle;\n",
       "    }\n",
       "\n",
       "    .dataframe tbody tr th {\n",
       "        vertical-align: top;\n",
       "    }\n",
       "\n",
       "    .dataframe thead th {\n",
       "        text-align: right;\n",
       "    }\n",
       "</style>\n",
       "<table border=\"1\" class=\"dataframe\">\n",
       "  <thead>\n",
       "    <tr style=\"text-align: right;\">\n",
       "      <th></th>\n",
       "      <th>count</th>\n",
       "      <th>mean</th>\n",
       "      <th>std</th>\n",
       "      <th>min</th>\n",
       "      <th>25%</th>\n",
       "      <th>50%</th>\n",
       "      <th>75%</th>\n",
       "      <th>max</th>\n",
       "    </tr>\n",
       "  </thead>\n",
       "  <tbody>\n",
       "    <tr>\n",
       "      <th>ancestor_information_content</th>\n",
       "      <td>284360769.0</td>\n",
       "      <td>4.484586</td>\n",
       "      <td>1.886594</td>\n",
       "      <td>0.0</td>\n",
       "      <td>4.011168</td>\n",
       "      <td>4.011168</td>\n",
       "      <td>5.031955</td>\n",
       "      <td>18.008877</td>\n",
       "    </tr>\n",
       "    <tr>\n",
       "      <th>jaccard_similarity</th>\n",
       "      <td>284037008.0</td>\n",
       "      <td>0.235657</td>\n",
       "      <td>0.116312</td>\n",
       "      <td>0.0</td>\n",
       "      <td>0.168831</td>\n",
       "      <td>0.229167</td>\n",
       "      <td>0.296296</td>\n",
       "      <td>1.000000</td>\n",
       "    </tr>\n",
       "    <tr>\n",
       "      <th>cosine_similarity</th>\n",
       "      <td>0.0</td>\n",
       "      <td>NaN</td>\n",
       "      <td>NaN</td>\n",
       "      <td>NaN</td>\n",
       "      <td>NaN</td>\n",
       "      <td>NaN</td>\n",
       "      <td>NaN</td>\n",
       "      <td>NaN</td>\n",
       "    </tr>\n",
       "    <tr>\n",
       "      <th>dice_similarity</th>\n",
       "      <td>0.0</td>\n",
       "      <td>NaN</td>\n",
       "      <td>NaN</td>\n",
       "      <td>NaN</td>\n",
       "      <td>NaN</td>\n",
       "      <td>NaN</td>\n",
       "      <td>NaN</td>\n",
       "      <td>NaN</td>\n",
       "    </tr>\n",
       "    <tr>\n",
       "      <th>phenodigm_score</th>\n",
       "      <td>284037008.0</td>\n",
       "      <td>1.012332</td>\n",
       "      <td>0.422159</td>\n",
       "      <td>0.0</td>\n",
       "      <td>0.836877</td>\n",
       "      <td>0.991124</td>\n",
       "      <td>1.171427</td>\n",
       "      <td>4.243687</td>\n",
       "    </tr>\n",
       "  </tbody>\n",
       "</table>\n",
       "</div>"
      ],
      "text/plain": [
       "                                    count      mean       std  min       25%  \\\n",
       "ancestor_information_content  284360769.0  4.484586  1.886594  0.0  4.011168   \n",
       "jaccard_similarity            284037008.0  0.235657  0.116312  0.0  0.168831   \n",
       "cosine_similarity                     0.0       NaN       NaN  NaN       NaN   \n",
       "dice_similarity                       0.0       NaN       NaN  NaN       NaN   \n",
       "phenodigm_score               284037008.0  1.012332  0.422159  0.0  0.836877   \n",
       "\n",
       "                                   50%       75%        max  \n",
       "ancestor_information_content  4.011168  5.031955  18.008877  \n",
       "jaccard_similarity            0.229167  0.296296   1.000000  \n",
       "cosine_similarity                  NaN       NaN        NaN  \n",
       "dice_similarity                    NaN       NaN        NaN  \n",
       "phenodigm_score               0.991124  1.171427   4.243687  "
      ]
     },
     "execution_count": 11,
     "metadata": {},
     "output_type": "execute_result"
    }
   ],
   "source": [
    "df[[\"ancestor_information_content\", \"jaccard_similarity\", \"cosine_similarity\", \"dice_similarity\", \"phenodigm_score\"]].describe().T\n"
   ]
  },
  {
   "cell_type": "code",
   "execution_count": 12,
   "id": "119a7645-a9e6-4d1a-85a0-7d23ff6a75e9",
   "metadata": {
    "tags": []
   },
   "outputs": [
    {
     "data": {
      "text/plain": [
       "<Axes: xlabel='jaccard_similarity', ylabel='Count'>"
      ]
     },
     "execution_count": 12,
     "metadata": {},
     "output_type": "execute_result"
    },
    {
     "data": {
      "image/png": "[encoded data removed]",
      "text/plain": [
       "<Figure size 640x480 with 1 Axes>"
      ]
     },
     "metadata": {},
     "output_type": "display_data"
    }
   ],
   "source": [
    "sns.histplot(df['jaccard_similarity'], kde=True)"
   ]
  }
 ],
 "metadata": {
  "kernelspec": {
   "display_name": "myname",
   "language": "python",
   "name": "myname"
  },
  "language_info": {
   "codemirror_mode": {
    "name": "ipython",
    "version": 3
   },
   "file_extension": ".py",
   "mimetype": "text/x-python",
   "name": "python",
   "nbconvert_exporter": "python",
   "pygments_lexer": "ipython3",
   "version": "3.10.6"
  }
 },
 "nbformat": 4,
 "nbformat_minor": 5
}
